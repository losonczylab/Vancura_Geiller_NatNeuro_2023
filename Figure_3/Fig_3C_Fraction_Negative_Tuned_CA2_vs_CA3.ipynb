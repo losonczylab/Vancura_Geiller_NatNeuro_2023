{
 "cells": [
  {
   "cell_type": "code",
   "execution_count": 1,
   "metadata": {},
   "outputs": [],
   "source": [
    "import matplotlib\n",
    "import matplotlib.pyplot as plt\n",
    "import matplotlib.gridspec as gridspec\n",
    "import numpy as np\n",
    "import os\n",
    "from numpy import median \n",
    "import seaborn as sns\n",
    "import pandas as pd\n",
    "import scipy.stats as stats\n",
    "from scipy import signal \n",
    "from scipy.ndimage import gaussian_filter1d\n",
    "from scipy import interpolate\n",
    "import cPickle as pickle\n",
    "from lab.classes.dbclasses import dbMouse\n",
    "from statsmodels.stats.multicomp import pairwise_tukeyhsd\n",
    "from statsmodels.stats.multicomp import MultiComparison\n",
    "from itertools import groupby\n",
    "from operator import itemgetter"
   ]
  },
  {
   "cell_type": "code",
   "execution_count": 2,
   "metadata": {},
   "outputs": [],
   "source": [
    "%run Helper_Functions.ipynb"
   ]
  },
  {
   "cell_type": "code",
   "execution_count": null,
   "metadata": {},
   "outputs": [],
   "source": [
    "mouseList = ['bv119', 'bv125', 'bv132', 'bv135', 'bv136', 'bv138', 'bv140', 'bv142', 'bv143']\n",
    "\n",
    "allData = []\n",
    "for mouseID in mouseList:\n",
    "    print(mouseID), \n",
    "    labels = pd.read_excel('/data2/bert/CA3/Histology/Subtypes.xlsx', sheet_name = mouseID)\n",
    "    \n",
    "    exptList = [expt for expt in dbMouse(mouseID).imagingExperiments() if \\\n",
    "                expt.belt_id != 'belt_B' and expt.laps >= 10]\n",
    "    \n",
    "    for expt in exptList:\n",
    "        print expt.experimentType, expt.belt_id, expt.laps\n",
    "        if ('all' or 'all_fissa') in expt.labels(): \n",
    "            if expt.hasDfofTracesFile(): \n",
    "                subtype_id = ROI_planeID(expt, 'all_fissa') \n",
    "                roi_label = 'all_fissa'\n",
    "                \n",
    "                filepath = expt.sima_path() + '/place_fields_FISSA.pkl'\n",
    "                with open(filepath, 'rb') as f:\n",
    "                    data = pickle.load(f)\n",
    "                smoothed_tuning_curves = data['spatial_tuning_smooth']\n",
    "                \n",
    "                filepath2 = expt.sima_path() + '/shuffled_tuning_curves_FISSA.pkl'\n",
    "                with open(filepath2, 'rb') as f:\n",
    "                    shuffles = pickle.load(f)\n",
    "                fp = shuffles['Five_Perc_Tuning_Curves']\n",
    "                \n",
    "                for roiID in xrange(fp.shape[0]): \n",
    "                    crossings = np.where(smoothed_tuning_curves[roiID] < fp[roiID])[0]\n",
    "                    place_IN_status = False\n",
    "                    intervals = []\n",
    "                    if len(crossings) < 10:\n",
    "                        place_IN_status = False\n",
    "                    else:\n",
    "                        for k, g in groupby(enumerate(crossings), lambda (i,x): i-x):\n",
    "                            intervals.append(map(itemgetter(1), g))\n",
    "                        if len(intervals) > 1:\n",
    "                            if intervals[0][0] == 0 and intervals[-1][-1] == 99:\n",
    "                                intervals[0] = intervals[-1] + intervals[0]\n",
    "                                del intervals[-1]\n",
    "                        for interval in intervals:\n",
    "                            if len(interval) >= 10:\n",
    "                                place_IN_status = True\n",
    "                                break\n",
    "                    \n",
    "                    \n",
    "                    allData.append({'Mouse': mouseID, 'expt': expt.trial_id, \n",
    "                                    'Day': expt.day,\n",
    "                                    'Session': expt.session,\n",
    "                                    'Negative_Place_IN': place_IN_status,\n",
    "                                    'Subtype': labels['Subtype'][subtype_id[roiID]], \n",
    "                                    'Layer': labels['Layer'][subtype_id[roiID]],  \n",
    "                                    'Region': labels['Region'][subtype_id[roiID]],\n",
    "                                    'Imaging_Plane': subtype_id[roiID], \n",
    "                                    'SATB1': labels['SATB1'][subtype_id[roiID]]})\n",
    "\n",
    "allData = pd.DataFrame(allData)\n",
    "allData = allData[allData.Region != 'CA1']"
   ]
  },
  {
   "cell_type": "code",
   "execution_count": 4,
   "metadata": {},
   "outputs": [],
   "source": [
    "to_drop = allData.loc[(allData.Subtype == 'CB') & (allData.SATB1  == '-')].index\n",
    "allData = allData.drop(index = to_drop)"
   ]
  },
  {
   "cell_type": "code",
   "execution_count": null,
   "metadata": {},
   "outputs": [],
   "source": [
    "region_fraction_tuned_per_expt = []\n",
    "regions = ['CA2', 'CA3']\n",
    "for expt in np.unique(allData.expt):\n",
    "    for region in regions:\n",
    "        if len(allData[allData.Region == region][allData.expt == expt]) > 1:\n",
    "            region_fraction_tuned_per_expt.append({'expt': expt, \\\n",
    "                'Region': region, \\\n",
    "                'Mouse': allData[allData.expt == expt].Mouse.iloc[0],\n",
    "                'Fraction_Tuned': len(allData[allData.expt == expt][allData.Region == region] \\\n",
    "                    [allData.Negative_Place_IN == True])/ \\\n",
    "                    float(len(allData[allData.expt == expt][allData.Region == region]))})\n",
    "region_fraction_tuned_per_expt = pd.DataFrame(region_fraction_tuned_per_expt)"
   ]
  },
  {
   "cell_type": "code",
   "execution_count": 8,
   "metadata": {},
   "outputs": [
    {
     "data": {
      "image/png": "[encoded data removed]",
      "text/plain": [
       "<Figure size 432x288 with 1 Axes>"
      ]
     },
     "metadata": {
      "needs_background": "light"
     },
     "output_type": "display_data"
    }
   ],
   "source": [
    "fig, ax = plt.subplots(1,1,figsize = (6,4))\n",
    "order = ['CA2', 'CA3']\n",
    "mypalette = ['blue', 'red']\n",
    "sns.swarmplot(x = 'Region', y = 'Fraction_Tuned', data = region_fraction_tuned_per_expt, \\\n",
    "             order = order)\n",
    "sns.barplot(x = 'Region', y = 'Fraction_Tuned', data = region_fraction_tuned_per_expt, \\\n",
    "             order = order, ci = 68, palette = mypalette, alpha = 0.3)\n",
    "ax.set_ylim([0,1])\n",
    "ax.set_ylabel('Fraction Tuned per \\n Imaging Session', fontsize = 18)\n",
    "ax.tick_params(axis = 'y', labelsize = 16)\n",
    "ax.set_xticklabels(['CA2', 'CA3'], fontsize = 18)\n",
    "ax.set_xlabel('')\n",
    "simpleaxis(ax)\n",
    "\n",
    "fig.tight_layout()\n",
    "plt.savefig('Negative_Fraction_Tuned_by_Region.svg', format = 'svg', \\\n",
    "            dpi = 1200, transparent = True)"
   ]
  }
 ],
 "metadata": {
  "kernelspec": {
   "display_name": "Python 2",
   "language": "python",
   "name": "python2"
  },
  "language_info": {
   "codemirror_mode": {
    "name": "ipython",
    "version": 2
   },
   "file_extension": ".py",
   "mimetype": "text/x-python",
   "name": "python",
   "nbconvert_exporter": "python",
   "pygments_lexer": "ipython2",
   "version": "2.7.17"
  }
 },
 "nbformat": 4,
 "nbformat_minor": 2
}
