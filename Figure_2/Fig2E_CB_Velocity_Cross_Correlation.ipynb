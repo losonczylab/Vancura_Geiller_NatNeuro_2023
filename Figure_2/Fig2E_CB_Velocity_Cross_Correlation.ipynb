{
 "cells": [
  {
   "cell_type": "code",
   "execution_count": 1,
   "metadata": {},
   "outputs": [],
   "source": [
    "import matplotlib\n",
    "import matplotlib.pyplot as plt\n",
    "import matplotlib.gridspec as gridspec\n",
    "import numpy as np\n",
    "from numpy import median\n",
    "import numpy.ma as ma\n",
    "import seaborn as sns\n",
    "import pandas as pd\n",
    "import scipy.stats as stats\n",
    "from scipy import signal \n",
    "import cPickle as pkl\n",
    "from lab.classes.dbclasses import dbMouse\n",
    "from scipy.ndimage.interpolation import shift\n",
    "import itertools as it\n",
    "from statsmodels.stats.multicomp import pairwise_tukeyhsd\n",
    "from statsmodels.stats.multicomp import MultiComparison"
   ]
  },
  {
   "cell_type": "code",
   "execution_count": 2,
   "metadata": {},
   "outputs": [],
   "source": [
    "%run Helper_Functions.ipynb"
   ]
  },
  {
   "cell_type": "code",
   "execution_count": null,
   "metadata": {},
   "outputs": [],
   "source": [
    "mouseList = ['bv119', 'bv125', 'bv132', 'bv135', 'bv136', 'bv138', 'bv140', 'bv142', 'bv143']\n",
    "\n",
    "allData = []\n",
    "for mouseID in mouseList:\n",
    "    print(mouseID), \n",
    "    labels = pd.read_excel('/data2/bert/CA3/Histology/Subtypes.xlsx', sheet_name = mouseID)\n",
    "    \n",
    "    exptList = [expt for expt in dbMouse(mouseID).imagingExperiments() if \\\n",
    "                expt.experimentType != 'rippleActivity']\n",
    "    dataBuffer = []\n",
    "    for expt in exptList:\n",
    "        print expt.experimentType\n",
    "        if ('all' or 'all_fissa') in expt.labels(): \n",
    "            if expt.hasDfofTracesFile():\n",
    "                subtype_id = ROI_planeID(expt, 'all_fissa') \n",
    "                roi_label = 'all_fissa'\n",
    "                \n",
    "                imData = np.squeeze(expt.imagingData(dFOverF = 'from_file', label = roi_label))\n",
    "                velocity = expt.velocity(smoothing = 'hanning', window_length = 5)[0]\n",
    "                \n",
    "                for roiID in xrange(imData.shape[0]): \n",
    "                    cell_data = imData[roiID]\n",
    "                    corr_coef, lag = calculate_Cross_Correlation(expt, cell_data, velocity, \\\n",
    "                                    number_of_lag_seconds = 5)\n",
    "                    dataBuffer.append({'expt': expt.trial_id, \n",
    "                                    'Subtype': labels['Subtype'][subtype_id[roiID]], \n",
    "                                    'Layer': labels['Layer'][subtype_id[roiID]], \n",
    "                                    'Corr_Coef': corr_coef, 'Lag': lag, \n",
    "                                    'Region': labels['Region'][subtype_id[roiID]],\n",
    "                                    'Imaging_Plane': subtype_id[roiID], \n",
    "                                    'SATB1': labels['SATB1'][subtype_id[roiID]]})\n",
    "    \n",
    "    dataBuffer = pd.DataFrame(dataBuffer)\n",
    "    for planenumber in filter(lambda v: v==v, np.unique(dataBuffer['Imaging_Plane'])):\n",
    "        corr_coef_mean = np.nanmean(dataBuffer[dataBuffer.Imaging_Plane == planenumber]['Corr_Coef'])\n",
    "        lag_mean = np.nanmean(dataBuffer[dataBuffer.Imaging_Plane == planenumber]['Lag'])\n",
    "        \n",
    "        allData.append({'mouseID': mouseID, \n",
    "            'Layer': dataBuffer[dataBuffer.Imaging_Plane == planenumber]['Layer'].iloc[0],\n",
    "            'Subtype': dataBuffer[dataBuffer.Imaging_Plane == planenumber]['Subtype'].iloc[0], \n",
    "            'Corr_Coef': corr_coef_mean, 'Lag': lag_mean, \n",
    "            'Region': dataBuffer[dataBuffer.Imaging_Plane == planenumber]['Region'].iloc[0],\n",
    "            'SATB1': dataBuffer[dataBuffer.Imaging_Plane == planenumber]['SATB1'].iloc[0]})\n",
    "\n",
    "allData = pd.DataFrame(allData)  "
   ]
  },
  {
   "cell_type": "code",
   "execution_count": 4,
   "metadata": {},
   "outputs": [],
   "source": [
    "allData = allData[allData.Region != 'CA1']"
   ]
  },
  {
   "cell_type": "code",
   "execution_count": 5,
   "metadata": {},
   "outputs": [
    {
     "data": {
      "image/png": "[encoded data removed]",
      "text/plain": [
       "<Figure size 432x216 with 2 Axes>"
      ]
     },
     "metadata": {
      "needs_background": "light"
     },
     "output_type": "display_data"
    }
   ],
   "source": [
    "fig = plt.figure(figsize = (6, 3))\n",
    "gs = gridspec.GridSpec(1, 9, figure = fig)\n",
    "\n",
    "SMALL_SIZE = 6\n",
    "MEDIUM_SIZE = 7\n",
    "BIGGER_SIZE = 9\n",
    "plt.rcParams['font.sans-serif'] = 'Arial'\n",
    "plt.rc('font', size=SMALL_SIZE) # controls default text sizes\n",
    "plt.rc('axes', titlesize=SMALL_SIZE) # fontsize of the axes title\n",
    "plt.rc('axes', labelsize=MEDIUM_SIZE) # fontsize of the x and y labels\n",
    "plt.rc('xtick', labelsize=SMALL_SIZE) # fontsize of the tick labels\n",
    "plt.rc('ytick', labelsize=SMALL_SIZE) # fontsize of the tick labels\n",
    "plt.rc('legend', fontsize=SMALL_SIZE) # legend fontsize\n",
    "plt.rc('figure', titlesize=BIGGER_SIZE) # fontsize of the figure title\n",
    "\n",
    "fig_ax1 = fig.add_subplot(gs[:,0:3])\n",
    "my_palette = {'CA2': 'blue', 'CA3': 'red'}\n",
    "sns.boxplot(x = 'SATB1', y = 'Corr_Coef', data = allData[allData.Subtype == 'CB'], \\\n",
    "            showfliers = False, width = 0.4, ax = fig_ax1)\n",
    "sns.swarmplot(x='SATB1', y = 'Corr_Coef', data = allData[allData.Subtype == 'CB'], \\\n",
    "                color = 'gray', ax = fig_ax1)\n",
    "fig_ax1.set_xlabel('')\n",
    "fig_ax1.set_ylabel('')\n",
    "fig_ax1.set_xticklabels([])\n",
    "fig_ax1.set_ylim([-0.6, 0.6])\n",
    "fig_ax1.set_yticklabels([-0.6, -0.4, -0.2, 0, 0.2, 0.4, 0.6], fontsize = 18)\n",
    "simpleaxis(fig_ax1)\n",
    "\n",
    "fig_ax2 = fig.add_subplot(gs[:,3:], sharey = fig_ax1)\n",
    "sns.boxplot(x = 'SATB1', y = 'Corr_Coef', hue = 'Region', data = allData[allData.Subtype == 'CB'],\\\n",
    "            palette = my_palette, width = 0.4, showfliers = False, ax = fig_ax2)\n",
    "fig_ax2.set_xticklabels(['CB+/ \\n SATB1+', 'CB+/ \\n SATB1-'], fontsize = 18)\n",
    "fig_ax2.set_xlabel('')\n",
    "fig_ax2.set_ylim([-0.6, 0.6])\n",
    "fig_ax2.set_yticklabels([-0.6, -0.4, -0.2, 0, 0.2, 0.4, 0.6], fontsize = 18)\n",
    "fig_ax2.axhline(y = 0, color = 'black')\n",
    "#fig_ax2.get_yaxis().set_visible(False)\n",
    "#fig_ax2.spines['left'].set_visible(False)\n",
    "fig_ax2.set_ylabel('')\n",
    "\n",
    "leg = fig_ax2.legend(fontsize = 15, loc = 'lower left', frameon = False, \\\n",
    "                    borderaxespad = 0)\n",
    "leg.legendHandles[0].set_color('blue')\n",
    "leg.legendHandles[0].set_alpha(0.3)\n",
    "leg.legendHandles[1].set_color('red')\n",
    "leg.legendHandles[1].set_alpha(0.3)\n",
    "\n",
    "simpleaxis(fig_ax2)\n",
    "\n",
    "fig.tight_layout()\n",
    "plt.savefig('CB_SATB1_Velocity_Corr.svg', format = 'svg', dpi = 1200, transparent = True)"
   ]
  }
 ],
 "metadata": {
  "kernelspec": {
   "display_name": "Python 2",
   "language": "python",
   "name": "python2"
  },
  "language_info": {
   "codemirror_mode": {
    "name": "ipython",
    "version": 2
   },
   "file_extension": ".py",
   "mimetype": "text/x-python",
   "name": "python",
   "nbconvert_exporter": "python",
   "pygments_lexer": "ipython2",
   "version": "2.7.17"
  }
 },
 "nbformat": 4,
 "nbformat_minor": 2
}
