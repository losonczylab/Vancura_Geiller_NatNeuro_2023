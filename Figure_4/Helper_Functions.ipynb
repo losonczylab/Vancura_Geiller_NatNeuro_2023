{
 "cells": [
  {
   "cell_type": "code",
   "execution_count": 1,
   "metadata": {},
   "outputs": [],
   "source": [
    "def simpleaxis(ax):\n",
    "    ax.spines['top'].set_visible(False)\n",
    "    ax.spines['right'].set_visible(False)\n",
    "    ax.get_xaxis().tick_bottom()\n",
    "    ax.get_yaxis().tick_left()\n",
    "    for axis in ['top','bottom','left','right']:\n",
    "        ax.spines[axis].set_linewidth(0.5)\n",
    "    ax.tick_params(width=0.5)\n",
    "\n",
    "def find_nearest(array, value):\n",
    "    array = np.asarray(array)\n",
    "    idx = (np.abs(array - value)).argmin()\n",
    "    return idx\n",
    "\n",
    "def loadRippleFrames(expt):\n",
    "    try:\n",
    "        with open(expt.LFPFilePath() + '/' + 'ripple_frames.pkl', 'rb') as f:\n",
    "            rFrames = pickle.load(f)\n",
    "    except:\n",
    "        r_path = [fn for fn in locate('*keep_ripples.npy', expt.LFPFilePath(), ignore=None)][0]\n",
    "        rtimes = np.load(r_path)\n",
    "        ts = np.arange(expt.num_frames()) * expt.frame_period()\n",
    "        ripple_frames = []\n",
    "        for t in xrange(len(rtimes)):\n",
    "            ripple_frames.append(find_nearest(ts, rtimes[t][0]))\n",
    "        ripple_frames = np.asarray(ripple_frames)\n",
    "        rFrames = ripple_frames[ripple_frames < expt.num_frames()]\n",
    "        with open(expt.LFPFilePath() + '/' + 'ripple_frames.pkl', 'wb') as f:\n",
    "            pickle.dump(rFrames, f)\n",
    "    return rFrames\n",
    "\n",
    "def ROI_planeID(expt, label):\n",
    "    signals = expt.imaging_dataset().signals()[label]['rois']\n",
    "    nROIs = len(signals)\n",
    "    planeID = []\n",
    "    for i in xrange(nROIs):\n",
    "        planeID.append(signals[i]['polygons'][0][0][2])\n",
    "\n",
    "    return np.asarray(planeID).astype('int')\n",
    "\n",
    "def resample_trace(fluorescence_trace, number_of_data_points):\n",
    "    y = fluorescence_trace\n",
    "    x = np.arange(0, len(y))\n",
    "    f = interpolate.interp1d(x,y)\n",
    "    xnew = np.linspace(x.min(), x.max(), num = number_of_data_points)\n",
    "    ynew = f(xnew)\n",
    "    return ynew\n",
    "\n",
    "def get_immobility_frames(expt, immobility_cutoff = 0.2):\n",
    "    return np.where(expt.velocity()[0] < immobility_cutoff)[0]\n",
    "\n",
    "def butter_bandpass_filter(signal, lowcut, highcut, Fs = 20000, order = 4):\n",
    "    nyq_f = 0.5 * Fs\n",
    "    low = lowcut / nyq_f\n",
    "    high = highcut / nyq_f\n",
    "    b,a = butter(order, [low, high], btype = 'band')\n",
    "    return lfilter(b,a,signal)"
   ]
  },
  {
   "cell_type": "code",
   "execution_count": null,
   "metadata": {},
   "outputs": [],
   "source": []
  }
 ],
 "metadata": {
  "kernelspec": {
   "display_name": "Python 2",
   "language": "python",
   "name": "python2"
  },
  "language_info": {
   "codemirror_mode": {
    "name": "ipython",
    "version": 2
   },
   "file_extension": ".py",
   "mimetype": "text/x-python",
   "name": "python",
   "nbconvert_exporter": "python",
   "pygments_lexer": "ipython2",
   "version": "2.7.17"
  }
 },
 "nbformat": 4,
 "nbformat_minor": 2
}
