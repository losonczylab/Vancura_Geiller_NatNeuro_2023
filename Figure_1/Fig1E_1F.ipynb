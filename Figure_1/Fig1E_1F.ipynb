{
 "cells": [
  {
   "cell_type": "code",
   "execution_count": 1,
   "metadata": {
    "collapsed": true,
    "deletable": true,
    "editable": true
   },
   "outputs": [],
   "source": [
    "import numpy as np\n",
    "import os\n",
    "import seaborn as sns\n",
    "import scipy.stats as ss\n",
    "import pandas as pd\n",
    "from mpl_toolkits.mplot3d import Axes3D\n",
    "from pandas import ExcelWriter\n",
    "from pandas import ExcelFile\n",
    "import matplotlib.pyplot as plt\n",
    "from __future__ import division"
   ]
  },
  {
   "cell_type": "code",
   "execution_count": null,
   "metadata": {},
   "outputs": [],
   "source": [
    "mouseList = ['bv119', 'bv125', 'bv132', 'bv135', 'bv136', 'bv138', 'bv140', 'bv142', 'bv143','bv150', 'bv151', 'bv152', 'bv153', 'bv154', 'bv160', 'bv163', 'bv165', 'bv167', 'bv169', 'tg531', 'tg532', 'tg535']\n",
    "df = pd.DataFrame()\n",
    "for mouseID in mouseList:\n",
    "    print(mouseID), \n",
    "    labels = pd.read_excel('/.../Immuno_results.xlsx', sheet_name=mouseID)\n",
    "    df = pd.concat((df, labels[['Region', 'Layer', 'Subtype']]))"
   ]
  },
  {
   "cell_type": "code",
   "execution_count": 20,
   "metadata": {},
   "outputs": [],
   "source": [
    "CA2 = len(df[df.Region == 'CA2'])\n",
    "CA3 = len(df[df.Region == 'CA3'])\n",
    "tot = CA2 + CA3"
   ]
  },
  {
   "cell_type": "code",
   "execution_count": 9,
   "metadata": {},
   "outputs": [
    {
     "data": {
      "text/plain": [
       "([<matplotlib.patches.Wedge at 0x7fc7aed65750>,\n",
       "  <matplotlib.patches.Wedge at 0x7fc7aed09ad0>],\n",
       " [Text(-1.07957,0.211002,u''), Text(1.12864,-0.220593,u'')])"
      ]
     },
     "execution_count": 9,
     "metadata": {},
     "output_type": "execute_result"
    },
    {
     "data": {
      "image/png": "[encoded data removed]",
      "text/plain": [
       "<Figure size 432x288 with 1 Axes>"
      ]
     },
     "metadata": {},
     "output_type": "display_data"
    }
   ],
   "source": [
    "plt.pie([CA3/tot, CA2/tot], explode = [0, 0.05], colors = ['royalblue', 'orange'], startangle=50, shadow=0)"
   ]
  },
  {
   "cell_type": "code",
   "execution_count": 26,
   "metadata": {},
   "outputs": [
    {
     "data": {
      "image/png": "[encoded data removed]",
      "text/plain": [
       "<Figure size 432x288 with 1 Axes>"
      ]
     },
     "metadata": {
      "needs_background": "light"
     },
     "output_type": "display_data"
    }
   ],
   "source": [
    "reg   = 'CA2' #also try 'CA3'\n",
    "types = ['PVBC', 'AAC', 'SOM', 'CCK', 'CB', 'Nothing']\n",
    "layers = ['SO', 'SL', 'SP', 'SR/SLM']\n",
    "# tot = len(df[(df.Region == reg) & (df.Subtype.isin(types))])\n",
    "\n",
    "for xi, layer in enumerate(layers):\n",
    "    bottom = 0    \n",
    "    tot = len(df[(df.Region == reg) & (df.Subtype.isin(types)) & (df.Layer == layer)])\n",
    "    for typ, col in zip(types, ['skyblue', 'darkseagreen', 'lightcoral', 'navajowhite', 'plum', 'silver']):\n",
    "        num = len(df[(df.Region == reg) & (df.Layer == layer) & (df.Subtype == typ)]) / tot\n",
    "        plt.bar(xi, num, color=col, bottom=bottom, )\n",
    "        bottom += num\n",
    "plt.xticks(np.arange(xi+1), layers)"
   ]
  }
 ],
 "metadata": {
  "kernelspec": {
   "display_name": "Python 2",
   "language": "python",
   "name": "python2"
  },
  "language_info": {
   "codemirror_mode": {
    "name": "ipython",
    "version": 2
   },
   "file_extension": ".py",
   "mimetype": "text/x-python",
   "name": "python",
   "nbconvert_exporter": "python",
   "pygments_lexer": "ipython2",
   "version": "2.7.17"
  }
 },
 "nbformat": 4,
 "nbformat_minor": 2
}
